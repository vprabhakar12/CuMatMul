{
 "cells": [
  {
   "cell_type": "code",
   "execution_count": 8,
   "id": "fee21974",
   "metadata": {},
   "outputs": [
    {
     "data": {
      "image/png": "[encoded data removed]",
      "text/plain": [
       "<Figure size 600x300 with 1 Axes>"
      ]
     },
     "metadata": {},
     "output_type": "display_data"
    }
   ],
   "source": [
    "# Re-import necessary libraries after kernel reset\n",
    "import pandas as pd\n",
    "import matplotlib.pyplot as plt\n",
    "import seaborn as sns\n",
    "import os\n",
    "\n",
    "import warnings\n",
    "warnings.filterwarnings(\"ignore\")\n",
    "\n",
    "# Load the results from the file\n",
    "file_path = \"results.txt\"\n",
    "with open(file_path, \"r\") as f:\n",
    "    lines = f.readlines()\n",
    "\n",
    "# Parse lines into dictionaries\n",
    "parsed_results = [eval(line.strip()) for line in lines]\n",
    "\n",
    "# Convert to DataFrame\n",
    "df = pd.DataFrame(parsed_results)\n",
    "\n",
    "# Normalize performance relative to cuBLAS\n",
    "cublas_gflops = df[df['Method'] == 'cuBLAS (PyTorch)']['GFLOPs'].values[0]\n",
    "df['Performance Relative to cuBLAS (%)'] = (df['GFLOPs'] / cublas_gflops * 100).round(1)\n",
    "\n",
    "# Sort by performance for visualization\n",
    "df_sorted = df.sort_values(by='GFLOPs', ascending=True)\n",
    "\n",
    "# Plotting\n",
    "plt.figure(figsize=(6, 3))\n",
    "sns.barplot(x='GFLOPs', y='Method', data=df_sorted, palette='viridis', width=0.5)\n",
    "plt.title(\"Kernel GFLOPs/s Comparison\")\n",
    "plt.xlabel(\"GFLOPs/s\")\n",
    "plt.ylabel(\"Kernel\")\n",
    "plt.tight_layout()\n",
    "plt.grid(True, axis='x')\n",
    "plt.show()"
   ]
  },
  {
   "cell_type": "code",
   "execution_count": 9,
   "id": "c78edc4f",
   "metadata": {},
   "outputs": [
    {
     "data": {
      "text/html": [
       "<style type=\"text/css\">\n",
       "</style>\n",
       "<table id=\"T_21c8e\">\n",
       "  <caption>Performance Comparison Table (Relative to cuBLAS)</caption>\n",
       "  <thead>\n",
       "    <tr>\n",
       "      <th class=\"blank level0\" >&nbsp;</th>\n",
       "      <th id=\"T_21c8e_level0_col0\" class=\"col_heading level0 col0\" >Method</th>\n",
       "      <th id=\"T_21c8e_level0_col1\" class=\"col_heading level0 col1\" >GFLOPs</th>\n",
       "      <th id=\"T_21c8e_level0_col2\" class=\"col_heading level0 col2\" >Performance vs cuBLAS (%)</th>\n",
       "    </tr>\n",
       "  </thead>\n",
       "  <tbody>\n",
       "    <tr>\n",
       "      <th id=\"T_21c8e_level0_row0\" class=\"row_heading level0 row0\" >1</th>\n",
       "      <td id=\"T_21c8e_row0_col0\" class=\"data row0 col0\" >cuBLAS (PyTorch)</td>\n",
       "      <td id=\"T_21c8e_row0_col1\" class=\"data row0 col1\" >354.110860</td>\n",
       "      <td id=\"T_21c8e_row0_col2\" class=\"data row0 col2\" >100.000000</td>\n",
       "    </tr>\n",
       "    <tr>\n",
       "      <th id=\"T_21c8e_level0_row1\" class=\"row_heading level0 row1\" >2</th>\n",
       "      <td id=\"T_21c8e_row1_col0\" class=\"data row1 col0\" >CUDA Tiled</td>\n",
       "      <td id=\"T_21c8e_row1_col1\" class=\"data row1 col1\" >211.519025</td>\n",
       "      <td id=\"T_21c8e_row1_col2\" class=\"data row1 col2\" >59.700000</td>\n",
       "    </tr>\n",
       "    <tr>\n",
       "      <th id=\"T_21c8e_level0_row2\" class=\"row_heading level0 row2\" >3</th>\n",
       "      <td id=\"T_21c8e_row2_col0\" class=\"data row2 col0\" >CUDA Naive</td>\n",
       "      <td id=\"T_21c8e_row2_col1\" class=\"data row2 col1\" >46.361065</td>\n",
       "      <td id=\"T_21c8e_row2_col2\" class=\"data row2 col2\" >13.100000</td>\n",
       "    </tr>\n",
       "  </tbody>\n",
       "</table>\n"
      ],
      "text/plain": [
       "<pandas.io.formats.style.Styler at 0x173a77c1e20>"
      ]
     },
     "execution_count": 9,
     "metadata": {},
     "output_type": "execute_result"
    }
   ],
   "source": [
    "# Get cuBLAS GFLOPs as baseline\n",
    "baseline = df[df['Method'].str.contains(\"cuBLAS\")]['GFLOPs'].values[0]\n",
    "\n",
    "# Add performance relative to cuBLAS\n",
    "df['Performance vs cuBLAS (%)'] = (df['GFLOPs'] / baseline * 100).round(1)\n",
    "\n",
    "# Format nicely like a presentation table\n",
    "styled_df = df[['Method', 'GFLOPs', 'Performance vs cuBLAS (%)']].sort_values(by='GFLOPs', ascending=False)\n",
    "styled_df.reset_index(drop=True, inplace=True)\n",
    "styled_df.index += 1  # Start from 1\n",
    "\n",
    "# Display the styled table\n",
    "import pandas.io.formats.style\n",
    "styled_df.style.set_caption(\"Performance Comparison Table (Relative to cuBLAS)\")"
   ]
  }
 ],
 "metadata": {
  "kernelspec": {
   "display_name": "Python (CuMatMul)",
   "language": "python",
   "name": "cumatmul_env"
  },
  "language_info": {
   "codemirror_mode": {
    "name": "ipython",
    "version": 3
   },
   "file_extension": ".py",
   "mimetype": "text/x-python",
   "name": "python",
   "nbconvert_exporter": "python",
   "pygments_lexer": "ipython3",
   "version": "3.12.4"
  }
 },
 "nbformat": 4,
 "nbformat_minor": 5
}
